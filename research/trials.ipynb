{
 "cells": [
  {
   "cell_type": "code",
   "execution_count": 1,
   "metadata": {},
   "outputs": [],
   "source": [
    "import gdown"
   ]
  },
  {
   "cell_type": "code",
   "execution_count": 2,
   "metadata": {},
   "outputs": [],
   "source": [
    "url=\"https://drive.google.com/file/d/1vC5Rs_7bosXp-V0gK7SN9lGZL6FPJAPb/view?usp=sharing\""
   ]
  },
  {
   "cell_type": "code",
   "execution_count": 3,
   "metadata": {},
   "outputs": [
    {
     "data": {
      "text/plain": [
       "'1vC5Rs_7bosXp-V0gK7SN9lGZL6FPJAPb'"
      ]
     },
     "execution_count": 3,
     "metadata": {},
     "output_type": "execute_result"
    }
   ],
   "source": [
    "file_id=url.split(\"/\")[-2]\n",
    "file_id"
   ]
  },
  {
   "cell_type": "code",
   "execution_count": 4,
   "metadata": {},
   "outputs": [
    {
     "name": "stderr",
     "output_type": "stream",
     "text": [
      "Downloading...\n",
      "From (original): https://drive.google.com/uc?/export=download&id=1vC5Rs_7bosXp-V0gK7SN9lGZL6FPJAPb\n",
      "From (redirected): https://drive.google.com/uc?%2Fexport=download&id=1vC5Rs_7bosXp-V0gK7SN9lGZL6FPJAPb&confirm=t&uuid=b80a0c6c-5971-468d-b719-afef578437cb\n",
      "To: c:\\Users\\vdrss\\Downloads\\KIDENEY_PROJECT\\KIDENEY_DISEASE_CLASSIFICATION\\research\\CT-KIDNEY-DATASET-Normal-Cyst-Tumor-Stone.zip\n",
      "100%|██████████| 45.6M/45.6M [00:03<00:00, 14.0MB/s]\n"
     ]
    },
    {
     "data": {
      "text/plain": [
       "'CT-KIDNEY-DATASET-Normal-Cyst-Tumor-Stone.zip'"
      ]
     },
     "execution_count": 4,
     "metadata": {},
     "output_type": "execute_result"
    }
   ],
   "source": [
    "prefix = 'https://drive.google.com/uc?/export=download&id='\n",
    "gdown.download(prefix+file_id, \"CT-KIDNEY-DATASET-Normal-Cyst-Tumor-Stone.zip\")"
   ]
  }
 ],
 "metadata": {
  "kernelspec": {
   "display_name": "kidney",
   "language": "python",
   "name": "python3"
  },
  "language_info": {
   "codemirror_mode": {
    "name": "ipython",
    "version": 3
   },
   "file_extension": ".py",
   "mimetype": "text/x-python",
   "name": "python",
   "nbconvert_exporter": "python",
   "pygments_lexer": "ipython3",
   "version": "3.8.19"
  }
 },
 "nbformat": 4,
 "nbformat_minor": 2
}
